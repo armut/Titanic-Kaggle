{
 "cells": [
  {
   "cell_type": "markdown",
   "metadata": {},
   "source": [
    "One Step Further\n",
    "========="
   ]
  },
  {
   "cell_type": "markdown",
   "metadata": {},
   "source": [
    "Preamble\n",
    "---------"
   ]
  },
  {
   "cell_type": "code",
   "execution_count": 99,
   "metadata": {},
   "outputs": [],
   "source": [
    "import pandas as pd\n",
    "import numpy as np\n",
    "import graphviz\n",
    "from sklearn.tree import *"
   ]
  },
  {
   "cell_type": "markdown",
   "metadata": {},
   "source": [
    "Read the data:"
   ]
  },
  {
   "cell_type": "code",
   "execution_count": 55,
   "metadata": {},
   "outputs": [],
   "source": [
    "train_data = pd.read_csv(\"train.csv\")\n",
    "test_data = pd.read_csv(\"test.csv\")"
   ]
  },
  {
   "cell_type": "markdown",
   "metadata": {},
   "source": [
    "Now, let's repair our data by filling NaN's."
   ]
  },
  {
   "cell_type": "code",
   "execution_count": 56,
   "metadata": {},
   "outputs": [],
   "source": [
    "# Fill NaN ages with the median of the ages.\n",
    "train_data.loc[train_data['Age'].isnull(), 'Age'] = train_data['Age'].median()\n",
    "\n",
    "# Fill missing embarkations with 'S'.\n",
    "train_data['Embarked'] = train_data['Embarked'].fillna('S')"
   ]
  },
  {
   "cell_type": "markdown",
   "metadata": {},
   "source": [
    "Now, digitize 'male' and 'female' values."
   ]
  },
  {
   "cell_type": "code",
   "execution_count": 57,
   "metadata": {},
   "outputs": [],
   "source": [
    "train_data.loc[train_data['Sex'] == 'female', 'Sex'] = 1\n",
    "train_data.loc[train_data['Sex'] == 'male', 'Sex'] = 0"
   ]
  },
  {
   "cell_type": "markdown",
   "metadata": {},
   "source": [
    "And digitize embarkations too..."
   ]
  },
  {
   "cell_type": "code",
   "execution_count": 58,
   "metadata": {},
   "outputs": [],
   "source": [
    "train_data.loc[train_data['Embarked'] == 'S', 'Embarked'] = 0\n",
    "train_data.loc[train_data['Embarked'] == 'C', 'Embarked'] = 1\n",
    "train_data.loc[train_data['Embarked'] == 'Q', 'Embarked'] = 2"
   ]
  },
  {
   "cell_type": "markdown",
   "metadata": {},
   "source": [
    "Now let's print Sex and Embarked columns."
   ]
  },
  {
   "cell_type": "code",
   "execution_count": 59,
   "metadata": {
    "scrolled": true
   },
   "outputs": [
    {
     "name": "stdout",
     "output_type": "stream",
     "text": [
      "    Sex Embarked\n",
      "0     0        0\n",
      "1     1        1\n",
      "2     1        0\n",
      "3     1        0\n",
      "4     0        0\n",
      "5     0        2\n",
      "6     0        0\n",
      "7     0        0\n",
      "8     1        0\n",
      "9     1        1\n",
      "10    1        0\n",
      "11    1        0\n",
      "12    0        0\n",
      "13    0        0\n",
      "14    1        0\n",
      "15    1        0\n",
      "16    0        2\n",
      "17    0        0\n",
      "18    1        0\n",
      "19    1        1\n",
      "20    0        0\n",
      "21    0        0\n",
      "22    1        2\n",
      "23    0        0\n",
      "24    1        0\n",
      "25    1        0\n",
      "26    0        1\n",
      "27    0        0\n",
      "28    1        2\n",
      "29    0        0\n",
      "..   ..      ...\n",
      "861   0        0\n",
      "862   1        0\n",
      "863   1        0\n",
      "864   0        0\n",
      "865   1        0\n",
      "866   1        1\n",
      "867   0        0\n",
      "868   0        0\n",
      "869   0        0\n",
      "870   0        0\n",
      "871   1        0\n",
      "872   0        0\n",
      "873   0        0\n",
      "874   1        1\n",
      "875   1        1\n",
      "876   0        0\n",
      "877   0        0\n",
      "878   0        0\n",
      "879   1        1\n",
      "880   1        0\n",
      "881   0        0\n",
      "882   1        0\n",
      "883   0        0\n",
      "884   0        0\n",
      "885   1        2\n",
      "886   0        0\n",
      "887   1        0\n",
      "888   1        0\n",
      "889   0        1\n",
      "890   0        2\n",
      "\n",
      "[891 rows x 2 columns]\n"
     ]
    }
   ],
   "source": [
    "print(train_data.loc[:, ('Sex', 'Embarked')])"
   ]
  },
  {
   "cell_type": "markdown",
   "metadata": {},
   "source": [
    "Well, good to go."
   ]
  },
  {
   "cell_type": "code",
   "execution_count": 60,
   "metadata": {},
   "outputs": [
    {
     "name": "stdout",
     "output_type": "stream",
     "text": [
      "[ 0.13031677  0.31274009  0.24381015  0.31313298]\n",
      "0.977553310887\n"
     ]
    }
   ],
   "source": [
    "target = train_data['Survived'].values\n",
    "features = train_data[['Pclass', 'Sex', 'Age', 'Fare']].values\n",
    "decision_tree = DecisionTreeClassifier()\n",
    "decision_tree = decision_tree.fit(features, target)\n",
    "\n",
    "print(decision_tree.feature_importances_)\n",
    "print(decision_tree.score(features, target))"
   ]
  },
  {
   "cell_type": "markdown",
   "metadata": {},
   "source": [
    "Well. Let's see the gaps in our test data:"
   ]
  },
  {
   "cell_type": "code",
   "execution_count": 61,
   "metadata": {},
   "outputs": [
    {
     "name": "stdout",
     "output_type": "stream",
     "text": [
      "===================\n",
      "Pclass\n",
      "Series([], Name: Pclass, dtype: int64)\n",
      "===================\n",
      "\n",
      "===================\n",
      "Sex\n",
      "Series([], Name: Sex, dtype: object)\n",
      "===================\n",
      "\n",
      "===================\n",
      "Age\n",
      "10    NaN\n",
      "22    NaN\n",
      "29    NaN\n",
      "33    NaN\n",
      "36    NaN\n",
      "39    NaN\n",
      "41    NaN\n",
      "47    NaN\n",
      "54    NaN\n",
      "58    NaN\n",
      "65    NaN\n",
      "76    NaN\n",
      "83    NaN\n",
      "84    NaN\n",
      "85    NaN\n",
      "88    NaN\n",
      "91    NaN\n",
      "93    NaN\n",
      "102   NaN\n",
      "107   NaN\n",
      "108   NaN\n",
      "111   NaN\n",
      "116   NaN\n",
      "121   NaN\n",
      "124   NaN\n",
      "127   NaN\n",
      "132   NaN\n",
      "133   NaN\n",
      "146   NaN\n",
      "148   NaN\n",
      "       ..\n",
      "268   NaN\n",
      "271   NaN\n",
      "273   NaN\n",
      "274   NaN\n",
      "282   NaN\n",
      "286   NaN\n",
      "288   NaN\n",
      "289   NaN\n",
      "290   NaN\n",
      "292   NaN\n",
      "297   NaN\n",
      "301   NaN\n",
      "304   NaN\n",
      "312   NaN\n",
      "332   NaN\n",
      "339   NaN\n",
      "342   NaN\n",
      "344   NaN\n",
      "357   NaN\n",
      "358   NaN\n",
      "365   NaN\n",
      "366   NaN\n",
      "380   NaN\n",
      "382   NaN\n",
      "384   NaN\n",
      "408   NaN\n",
      "410   NaN\n",
      "413   NaN\n",
      "416   NaN\n",
      "417   NaN\n",
      "Name: Age, Length: 86, dtype: float64\n",
      "===================\n",
      "\n",
      "===================\n",
      "Fare\n",
      "152   NaN\n",
      "Name: Fare, dtype: float64\n",
      "===================\n",
      "\n"
     ]
    }
   ],
   "source": [
    "for col in ['Pclass', 'Sex', 'Age', 'Fare']:\n",
    "    print('===================')\n",
    "    print(col)\n",
    "    print(test_data[col][test_data[col].isnull() == True])\n",
    "    print('===================')\n",
    "    print()"
   ]
  },
  {
   "cell_type": "markdown",
   "metadata": {},
   "source": [
    "Let's fill them with medians and digital values for textual ones."
   ]
  },
  {
   "cell_type": "code",
   "execution_count": 62,
   "metadata": {},
   "outputs": [],
   "source": [
    "test_data.loc[test_data.Sex == 'male', 'Sex'] = 0\n",
    "test_data.loc[test_data.Sex == 'female', 'Sex'] = 1\n",
    "test_data.loc[test_data.Age.isnull(), 'Age'] = test_data.Age.median()\n",
    "test_data.loc[test_data.Fare.isnull(), 'Fare'] = test_data.Fare.median()"
   ]
  },
  {
   "cell_type": "markdown",
   "metadata": {},
   "source": [
    "Now, let's submit another prediction.\n",
    "------------------------------------------"
   ]
  },
  {
   "cell_type": "code",
   "execution_count": 98,
   "metadata": {},
   "outputs": [
    {
     "name": "stdout",
     "output_type": "stream",
     "text": [
      "(418, 2)\n"
     ]
    }
   ],
   "source": [
    "test_features = test_data[['Pclass', 'Sex', 'Age', 'Fare']].values\n",
    "prediction = decision_tree.predict(test_features)\n",
    "pids = test_data['PassengerId'].values\n",
    "solution = pd.DataFrame({'PassengerId': pids, 'Survived': prediction})\n",
    "print(solution)\n",
    "solution.to_csv(\"dt_submission.csv\", index=False)"
   ]
  },
  {
   "cell_type": "markdown",
   "metadata": {},
   "source": [
    "Hmm... Not well enough. Let's train our tree again, with fine tuning this time."
   ]
  },
  {
   "cell_type": "code",
   "execution_count": 146,
   "metadata": {},
   "outputs": [
    {
     "name": "stdout",
     "output_type": "stream",
     "text": [
      "[ 0.16905181  0.44303111  0.15308105  0.23483602]\n",
      "0.896745230079\n"
     ]
    }
   ],
   "source": [
    "decision_tree_improved = DecisionTreeClassifier(\n",
    "    max_depth=10,\n",
    "    min_samples_split=10,\n",
    "    random_state=1\n",
    ")\n",
    "decision_tree_improved = decision_tree_improved.fit(features, target)\n",
    "print(decision_tree_improved.feature_importances_)\n",
    "print(decision_tree_improved.score(features, target))\n",
    "\n",
    "dot_data = export_graphviz(\n",
    "    decision_tree_improved,\n",
    "    out_file=None,\n",
    "    feature_names=['Pclass', 'Sex', 'Age', 'Fare'],\n",
    "    class_names=['0', '1'],\n",
    "    special_characters=True\n",
    ")\n",
    "graph = graphviz.Source(dot_data)\n",
    "#graph.view()"
   ]
  },
  {
   "cell_type": "markdown",
   "metadata": {},
   "source": [
    "Let's test it."
   ]
  },
  {
   "cell_type": "code",
   "execution_count": 147,
   "metadata": {},
   "outputs": [
    {
     "name": "stdout",
     "output_type": "stream",
     "text": [
      "     PassengerId  Survived\n",
      "0            892         0\n",
      "1            893         0\n",
      "2            894         0\n",
      "3            895         0\n",
      "4            896         1\n",
      "5            897         0\n",
      "6            898         0\n",
      "7            899         0\n",
      "8            900         1\n",
      "9            901         0\n",
      "10           902         0\n",
      "11           903         0\n",
      "12           904         1\n",
      "13           905         0\n",
      "14           906         1\n",
      "15           907         1\n",
      "16           908         0\n",
      "17           909         0\n",
      "18           910         0\n",
      "19           911         0\n",
      "20           912         0\n",
      "21           913         1\n",
      "22           914         1\n",
      "23           915         0\n",
      "24           916         1\n",
      "25           917         0\n",
      "26           918         1\n",
      "27           919         0\n",
      "28           920         0\n",
      "29           921         0\n",
      "..           ...       ...\n",
      "388         1280         0\n",
      "389         1281         0\n",
      "390         1282         0\n",
      "391         1283         1\n",
      "392         1284         0\n",
      "393         1285         0\n",
      "394         1286         0\n",
      "395         1287         1\n",
      "396         1288         0\n",
      "397         1289         1\n",
      "398         1290         0\n",
      "399         1291         0\n",
      "400         1292         1\n",
      "401         1293         0\n",
      "402         1294         1\n",
      "403         1295         0\n",
      "404         1296         0\n",
      "405         1297         0\n",
      "406         1298         0\n",
      "407         1299         0\n",
      "408         1300         1\n",
      "409         1301         1\n",
      "410         1302         1\n",
      "411         1303         1\n",
      "412         1304         1\n",
      "413         1305         0\n",
      "414         1306         1\n",
      "415         1307         0\n",
      "416         1308         0\n",
      "417         1309         0\n",
      "\n",
      "[418 rows x 2 columns]\n"
     ]
    }
   ],
   "source": [
    "prediction = decision_tree_improved.predict(test_features)\n",
    "pids = test_data['PassengerId'].values\n",
    "solution = pd.DataFrame({'PassengerId': pids, 'Survived': prediction})\n",
    "print(solution)\n",
    "solution.to_csv(\"dt_submission2.csv\", index=False)"
   ]
  }
 ],
 "metadata": {
  "kernelspec": {
   "display_name": "Python 3",
   "language": "python",
   "name": "python3"
  },
  "language_info": {
   "codemirror_mode": {
    "name": "ipython",
    "version": 3
   },
   "file_extension": ".py",
   "mimetype": "text/x-python",
   "name": "python",
   "nbconvert_exporter": "python",
   "pygments_lexer": "ipython3",
   "version": "3.5.2"
  }
 },
 "nbformat": 4,
 "nbformat_minor": 2
}
