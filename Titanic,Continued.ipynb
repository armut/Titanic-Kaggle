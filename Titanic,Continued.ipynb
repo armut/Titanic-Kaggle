{
 "cells": [
  {
   "cell_type": "markdown",
   "metadata": {},
   "source": [
    "One Step Further\n",
    "========="
   ]
  },
  {
   "cell_type": "markdown",
   "metadata": {},
   "source": [
    "Preamble\n",
    "---------"
   ]
  },
  {
   "cell_type": "code",
   "execution_count": 56,
   "metadata": {},
   "outputs": [],
   "source": [
    "import pandas as pd\n",
    "import numpy as np\n",
    "from sklearn.tree import *"
   ]
  },
  {
   "cell_type": "markdown",
   "metadata": {},
   "source": [
    "Read the data:"
   ]
  },
  {
   "cell_type": "code",
   "execution_count": 3,
   "metadata": {},
   "outputs": [],
   "source": [
    "train_data = pd.read_csv(\"train.csv\")\n",
    "test_data = pd.read_csv(\"test.csv\")"
   ]
  },
  {
   "cell_type": "markdown",
   "metadata": {},
   "source": [
    "Now, let's repair our data by filling NaN's."
   ]
  },
  {
   "cell_type": "code",
   "execution_count": 42,
   "metadata": {},
   "outputs": [],
   "source": [
    "# Fill NaN ages with the median of the ages.\n",
    "train_data.loc[train_data['Age'].isnull(), 'Age'] = train_data['Age'].median()\n",
    "\n",
    "# Fill missing embarkations with 'S'.\n",
    "train_data['Embarked'] = train_data['Embarked'].fillna('S')"
   ]
  },
  {
   "cell_type": "markdown",
   "metadata": {},
   "source": [
    "Now, digitize 'male' and 'female' values."
   ]
  },
  {
   "cell_type": "code",
   "execution_count": 43,
   "metadata": {},
   "outputs": [],
   "source": [
    "train_data.loc[train_data['Sex'] == 'female', 'Sex'] = 1\n",
    "train_data.loc[train_data['Sex'] == 'male', 'Sex'] = 0"
   ]
  },
  {
   "cell_type": "markdown",
   "metadata": {},
   "source": [
    "And digitize embarkations too..."
   ]
  },
  {
   "cell_type": "code",
   "execution_count": 44,
   "metadata": {},
   "outputs": [],
   "source": [
    "train_data.loc[train_data['Embarked'] == 'S', 'Embarked'] = 0\n",
    "train_data.loc[train_data['Embarked'] == 'C', 'Embarked'] = 1\n",
    "train_data.loc[train_data['Embarked'] == 'Q', 'Embarked'] = 2"
   ]
  },
  {
   "cell_type": "markdown",
   "metadata": {},
   "source": [
    "Now let's print Sex and Embarked columns."
   ]
  },
  {
   "cell_type": "code",
   "execution_count": 46,
   "metadata": {
    "scrolled": true
   },
   "outputs": [
    {
     "name": "stdout",
     "output_type": "stream",
     "text": [
      "    Sex Embarked\n",
      "0     0        0\n",
      "1     1        1\n",
      "2     1        0\n",
      "3     1        0\n",
      "4     0        0\n",
      "5     0        2\n",
      "6     0        0\n",
      "7     0        0\n",
      "8     1        0\n",
      "9     1        1\n",
      "10    1        0\n",
      "11    1        0\n",
      "12    0        0\n",
      "13    0        0\n",
      "14    1        0\n",
      "15    1        0\n",
      "16    0        2\n",
      "17    0        0\n",
      "18    1        0\n",
      "19    1        1\n",
      "20    0        0\n",
      "21    0        0\n",
      "22    1        2\n",
      "23    0        0\n",
      "24    1        0\n",
      "25    1        0\n",
      "26    0        1\n",
      "27    0        0\n",
      "28    1        2\n",
      "29    0        0\n",
      "..   ..      ...\n",
      "861   0        0\n",
      "862   1        0\n",
      "863   1        0\n",
      "864   0        0\n",
      "865   1        0\n",
      "866   1        1\n",
      "867   0        0\n",
      "868   0        0\n",
      "869   0        0\n",
      "870   0        0\n",
      "871   1        0\n",
      "872   0        0\n",
      "873   0        0\n",
      "874   1        1\n",
      "875   1        1\n",
      "876   0        0\n",
      "877   0        0\n",
      "878   0        0\n",
      "879   1        1\n",
      "880   1        0\n",
      "881   0        0\n",
      "882   1        0\n",
      "883   0        0\n",
      "884   0        0\n",
      "885   1        2\n",
      "886   0        0\n",
      "887   1        0\n",
      "888   1        0\n",
      "889   0        1\n",
      "890   0        2\n",
      "\n",
      "[891 rows x 2 columns]\n"
     ]
    }
   ],
   "source": [
    "print(train_data.loc[:, ('Sex', 'Embarked')])"
   ]
  },
  {
   "cell_type": "markdown",
   "metadata": {},
   "source": [
    "Well, good to go."
   ]
  },
  {
   "cell_type": "code",
   "execution_count": 61,
   "metadata": {},
   "outputs": [
    {
     "name": "stdout",
     "output_type": "stream",
     "text": [
      "[ 0.11980215  0.31274009  0.23601885  0.3314389 ]\n",
      "0.977553310887\n"
     ]
    }
   ],
   "source": [
    "target = train_data['Survived'].values\n",
    "features = train_data[['Pclass', 'Sex', 'Age', 'Fare']].values\n",
    "decision_tree = DecisionTreeClassifier()\n",
    "decision_tree = decision_tree.fit(features, target)\n",
    "\n",
    "print(decision_tree.feature_importances_)\n",
    "print(decision_tree.score(features, target))"
   ]
  }
 ],
 "metadata": {
  "kernelspec": {
   "display_name": "Python 3",
   "language": "python",
   "name": "python3"
  },
  "language_info": {
   "codemirror_mode": {
    "name": "ipython",
    "version": 3
   },
   "file_extension": ".py",
   "mimetype": "text/x-python",
   "name": "python",
   "nbconvert_exporter": "python",
   "pygments_lexer": "ipython3",
   "version": "3.5.2"
  }
 },
 "nbformat": 4,
 "nbformat_minor": 2
}
